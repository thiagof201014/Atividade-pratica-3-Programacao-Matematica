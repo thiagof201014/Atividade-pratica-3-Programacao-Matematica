{
  "nbformat": 4,
  "nbformat_minor": 0,
  "metadata": {
    "colab": {
      "provenance": []
    },
    "kernelspec": {
      "name": "python3",
      "display_name": "Python 3"
    },
    "language_info": {
      "name": "python"
    }
  },
  "cells": [
    {
      "cell_type": "markdown",
      "source": [
        "# GCC118 - Programação Matemática\n",
        "## Universidade Federal de Lavras\n",
        "### Instituto de Ciências Exatas e Tecnológicas\n",
        "#### Profa. Andreza C. Beezão Moreira (DMM/UFLA)\n",
        "#### Prof. Mayron César O. Moreira (DCC/UFLA)\n"
      ],
      "metadata": {
        "id": "9GxPwFVBgqR2"
      }
    },
    {
      "cell_type": "markdown",
      "source": [
        "\n",
        "#### Aluno Daniel Messias Santos 202110168\n",
        "#### Aluno Thiago Pereira Freire 202110167"
      ],
      "metadata": {
        "id": "OKN4IUkRi41e"
      }
    },
    {
      "cell_type": "markdown",
      "source": [
        "# Problema da Mochila Binária\n",
        "\n",
        "O problema da mochila binária pode ser formulado da seguinte maneira:\n",
        "\n",
        "## Função Objetivo\n",
        "\n",
        "Maximizar o valor total da mochila:\n",
        "\n",
        "$$\n",
        "Z = \\sum_{i=1}^{n} v_i \\cdot x_i\n",
        "$$\n",
        "\n",
        "Onde:\n",
        "- $ v_i $ é o valor do item $i$,\n",
        "- $ x_i $ é uma variável binária que indica se o item $i$ é incluído na mochila ($x_i = 1$) ou não ($x_i = 0$).\n",
        "\n",
        "## Restrição de Capacidade\n",
        "\n",
        "A soma dos pesos dos itens selecionados não pode ultrapassar a capacidade da mochila:\n",
        "\n",
        "$$\n",
        "\\sum_{i=1}^{n} w_i \\cdot x_i \\leq C\n",
        "$$\n",
        "\n",
        "Onde:\n",
        "- $ w_i $ é o peso do item $i$,\n",
        "- $ C $ é a capacidade total da mochila.\n",
        "\n",
        "## Restrição de Binárias\n",
        "\n",
        "As variáveis de decisão $x_i$ são binárias, ou seja:\n",
        "\n",
        "$$\n",
        "x_i \\in \\{0, 1\\} \\quad \\text{para} \\quad i = 1, 2, \\dots, n\n",
        "$$\n",
        "\n",
        "## Relaxamento Fracionário (Upper Bound)\n",
        "\n",
        "No relaxamento fracionário, as variáveis $x_i$ podem assumir valores contínuos entre 0 e 1, ou seja:\n",
        "\n",
        "$$\n",
        "0 \\leq x_i \\leq 1 \\quad \\text{para} \\quad i = 1, 2, \\dots, n\n",
        "$$\n"
      ],
      "metadata": {
        "id": "ridks83fjba3"
      }
    },
    {
      "cell_type": "markdown",
      "source": [
        "#Implementação do algoritmo branch and bound"
      ],
      "metadata": {
        "id": "Z7Vy_bySbL6r"
      }
    },
    {
      "cell_type": "markdown",
      "source": [
        "Seu código deve ser testado na seguinte instância: [link](https://drive.google.com/file/d/12CeZEow-6vVgJFgzXMo0gbjV5hLCM6Zi/view?usp=sharing). O README se encontra em: [link](https://drive.google.com/file/d/1LBTdkDoTQRxUJsKLI4Z38-Uc8oUPCZQ0/view?usp=sharing)."
      ],
      "metadata": {
        "id": "jyYbV5Wng03k"
      }
    },
    {
      "cell_type": "code",
      "source": [
        "!pip install gurobipy"
      ],
      "metadata": {
        "id": "ihzCx5TPg4Fq",
        "outputId": "280f1ed5-5a96-4f50-89c3-d91ee0fe0253",
        "colab": {
          "base_uri": "https://localhost:8080/"
        }
      },
      "execution_count": null,
      "outputs": [
        {
          "output_type": "stream",
          "name": "stdout",
          "text": [
            "Collecting gurobipy\n",
            "  Downloading gurobipy-12.0.0-cp310-cp310-manylinux2014_x86_64.manylinux_2_17_x86_64.whl.metadata (15 kB)\n",
            "Downloading gurobipy-12.0.0-cp310-cp310-manylinux2014_x86_64.manylinux_2_17_x86_64.whl (14.4 MB)\n",
            "\u001b[2K   \u001b[90m━━━━━━━━━━━━━━━━━━━━━━━━━━━━━━━━━━━━━━━━\u001b[0m \u001b[32m14.4/14.4 MB\u001b[0m \u001b[31m83.9 MB/s\u001b[0m eta \u001b[36m0:00:00\u001b[0m\n",
            "\u001b[?25hInstalling collected packages: gurobipy\n",
            "Successfully installed gurobipy-12.0.0\n"
          ]
        }
      ]
    },
    {
      "cell_type": "code",
      "execution_count": null,
      "metadata": {
        "id": "C8uA2IgpgmpD",
        "outputId": "936fddc1-6921-4b10-aa04-8930931ea70d",
        "colab": {
          "base_uri": "https://localhost:8080/"
        }
      },
      "outputs": [
        {
          "output_type": "stream",
          "name": "stdout",
          "text": [
            "Restricted license - for non-production use only - expires 2026-11-23\n",
            "Melhor solução encontrada: 4886.0\n",
            "Limite inferior (heurística gulosa): 4886\n",
            "Limite superior (mochila fracionária): 4887.475409836065\n",
            "Tempo computacional: 0.028422 segundos\n"
          ]
        }
      ],
      "source": [
        "import gurobipy as grb\n",
        "import time\n",
        "\n",
        "# Classe para representar um item da mochila\n",
        "class Item:\n",
        "    def __init__(self, peso, valor):\n",
        "        self.peso = peso\n",
        "        self.valor = valor\n",
        "        self.ratio = valor / peso  # Razão valor/peso\n",
        "\n",
        "# Função para resolver a mochila fracionária (como limite superior)\n",
        "def mochila_fracionaria(capacidade, itens):\n",
        "    # Ordenar os itens por razão valor/peso (decrescente)\n",
        "    itens = sorted(itens, key=lambda x: x.ratio, reverse=True)\n",
        "\n",
        "    valor_total = 0\n",
        "    peso_total = 0\n",
        "\n",
        "    for item in itens:\n",
        "        if peso_total + item.peso <= capacidade:\n",
        "            valor_total += item.valor\n",
        "            peso_total += item.peso\n",
        "        else:\n",
        "            # Se não cabe todo o item, pega a fração que cabe\n",
        "            remaining_capacity = capacidade - peso_total\n",
        "            valor_total += item.valor * (remaining_capacity / item.peso)\n",
        "            break\n",
        "\n",
        "    return valor_total\n",
        "\n",
        "# Função heurística gulosa para o limite inferior\n",
        "def mochila_gulosa(capacidade, itens):\n",
        "    # Ordenar os itens por razão valor/peso (decrescente)\n",
        "    itens = sorted(itens, key=lambda x: x.ratio, reverse=True)\n",
        "\n",
        "    valor_total = 0\n",
        "    peso_total = 0\n",
        "\n",
        "    for item in itens:\n",
        "        if peso_total + item.peso <= capacidade:\n",
        "            valor_total += item.valor\n",
        "            peso_total += item.peso\n",
        "        else:\n",
        "            break\n",
        "\n",
        "    return valor_total\n",
        "\n",
        "# Função para resolver o problema da mochila binária usando Branch and Bound com Gurobi\n",
        "def branch_and_bound(capacidade, itens):\n",
        "    start_time = time.time()\n",
        "\n",
        "    # Número de itens\n",
        "    n = len(itens)\n",
        "\n",
        "    # Inicializando o modelo Gurobi\n",
        "    modelo = grb.Model()\n",
        "\n",
        "    # Variáveis binárias: x_i = 1 se o item i for incluído, 0 caso contrário\n",
        "    x = modelo.addVars(n, vtype=grb.GRB.BINARY, name=\"x\")\n",
        "\n",
        "    # Função objetivo: maximizar o valor total\n",
        "    modelo.setObjective(grb.quicksum(itens[i].valor * x[i] for i in range(n)), grb.GRB.MAXIMIZE)\n",
        "\n",
        "    # Restrição de capacidade da mochila\n",
        "    modelo.addConstr(grb.quicksum(itens[i].peso * x[i] for i in range(n)) <= capacidade, \"Capacidade\")\n",
        "\n",
        "    # Limite inferior (solução gulosa) e limite superior (solução fracionária)\n",
        "    limite_inferior = mochila_gulosa(capacidade, itens)\n",
        "    limite_superior = mochila_fracionaria(capacidade, itens)\n",
        "\n",
        "    modelo.setParam('OutputFlag', 0)  # Desabilitar logs de solução no Gurobi\n",
        "\n",
        "    # Resolver o modelo exato com Gurobi\n",
        "    modelo.optimize()\n",
        "\n",
        "    # Recuperar a melhor solução\n",
        "    melhor_solucao = modelo.objVal\n",
        "\n",
        "    end_time = time.time()\n",
        "    tempo_computacional = end_time - start_time\n",
        "\n",
        "    return melhor_solucao, limite_inferior, limite_superior, tempo_computacional\n",
        "\n",
        "# Função para ler os dados de entrada a partir de um arquivo\n",
        "def ler_entrada(arquivo):\n",
        "    with open(arquivo, 'r') as f:\n",
        "        nome_instancia = f.readline().strip()  # Linha 1: Nome da instância\n",
        "        classe_instancia = f.readline().strip()  # Linha 2: Classe da instância\n",
        "        capacidade = int(f.readline().strip())  # Linha 3: Capacidade da mochila\n",
        "\n",
        "        itens = []\n",
        "\n",
        "        # Leitura dos itens (peso e valor)\n",
        "        for linha in f:\n",
        "            if linha.strip():\n",
        "                peso, valor = map(int, linha.split())\n",
        "                itens.append(Item(peso, valor))\n",
        "\n",
        "    return capacidade, itens\n",
        "\n",
        "# Função principal para testar o algoritmo\n",
        "def main():\n",
        "    # Defina o caminho do arquivo de entrada\n",
        "    arquivo_entrada = 'Weakly001'  # Substitua pelo caminho do seu arquivo de entrada\n",
        "\n",
        "    capacidade, itens = ler_entrada(arquivo_entrada)\n",
        "\n",
        "    melhor_solucao, limite_inferior, limite_superior, tempo_computacional = branch_and_bound(capacidade, itens)\n",
        "\n",
        "    # Imprimir resultados\n",
        "    print(f\"Melhor solução encontrada: {melhor_solucao}\")\n",
        "    print(f\"Limite inferior (heurística gulosa): {limite_inferior}\")\n",
        "    print(f\"Limite superior (mochila fracionária): {limite_superior}\")\n",
        "    print(f\"Tempo computacional: {tempo_computacional:.6f} segundos\")\n",
        "\n",
        "if __name__ == \"__main__\":\n",
        "    main()\n"
      ]
    }
  ]
}